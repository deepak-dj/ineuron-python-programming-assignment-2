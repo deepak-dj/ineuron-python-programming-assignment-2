{
  "nbformat": 4,
  "nbformat_minor": 0,
  "metadata": {
    "colab": {
      "provenance": [],
      "collapsed_sections": []
    },
    "kernelspec": {
      "name": "python3",
      "display_name": "Python 3"
    },
    "language_info": {
      "name": "python"
    }
  },
  "cells": [
    {
      "cell_type": "markdown",
      "source": [
        "# Python Programming assignment 2"
      ],
      "metadata": {
        "id": "LljJn_miA5ns"
      }
    },
    {
      "cell_type": "markdown",
      "source": [
        "1. Write a Python program to convert kilometers to miles?\n",
        "2. Write a Python program to convert Celsius to Fahrenheit?\n",
        "3. Write a Python program to display calendar?\n",
        "4. Write a Python program to solve quadratic equation?\n",
        "5. Write a Python program to swap two variables without temp variable?"
      ],
      "metadata": {
        "id": "JdQ9BAlAA3up"
      }
    },
    {
      "cell_type": "code",
      "source": [
        "# ques 1\n",
        "\n",
        "def mile(km):\n",
        "  return 0.621371*km\n",
        "l = mile(1)  \n",
        "print(l)"
      ],
      "metadata": {
        "colab": {
          "base_uri": "https://localhost:8080/"
        },
        "id": "0R9XufBsBHiY",
        "outputId": "77872e02-e7e8-4a02-fab2-b6eff309eb9b"
      },
      "execution_count": null,
      "outputs": [
        {
          "output_type": "stream",
          "name": "stdout",
          "text": [
            "0.621371\n"
          ]
        }
      ]
    },
    {
      "cell_type": "code",
      "source": [
        "# ques 2\n",
        "\n",
        "def farenhiet(celsius):\n",
        "    c = (9/5)*celsius+32\n",
        "    return c\n",
        "far = farenhiet(20)\n",
        "print(far)    "
      ],
      "metadata": {
        "colab": {
          "base_uri": "https://localhost:8080/"
        },
        "id": "YSr6gS7cB9pZ",
        "outputId": "fbe94ff4-7750-4077-a0a6-8a87f5a9862a"
      },
      "execution_count": null,
      "outputs": [
        {
          "output_type": "stream",
          "name": "stdout",
          "text": [
            "68.0\n"
          ]
        }
      ]
    },
    {
      "cell_type": "code",
      "source": [
        "# ques 3\n",
        "\n",
        "import calendar\n",
        " \n",
        "yy = 2022\n",
        "mm = 10\n",
        " \n",
        "# display the calendar\n",
        "print(calendar.month(yy, mm))"
      ],
      "metadata": {
        "colab": {
          "base_uri": "https://localhost:8080/"
        },
        "id": "ndjka9g4ClyN",
        "outputId": "3b7edd94-4bc0-4394-911e-542553e85442"
      },
      "execution_count": null,
      "outputs": [
        {
          "output_type": "stream",
          "name": "stdout",
          "text": [
            "    October 2022\n",
            "Mo Tu We Th Fr Sa Su\n",
            "                1  2\n",
            " 3  4  5  6  7  8  9\n",
            "10 11 12 13 14 15 16\n",
            "17 18 19 20 21 22 23\n",
            "24 25 26 27 28 29 30\n",
            "31\n",
            "\n"
          ]
        }
      ]
    },
    {
      "cell_type": "code",
      "source": [
        "# ques 4\n",
        "\n",
        "def quadeq(a,b,c):\n",
        "  determinent = b**2 - 4*(a*c)\n",
        "  root1 = (-b + (determinent)**(1/2))/(2*a)\n",
        "  root2 = (-b - (determinent)**(1/2))/(2*a)\n",
        "\n",
        "  return root1,root2\n",
        "\n",
        "q = quadeq(1,-4,4)\n",
        "print(q)  "
      ],
      "metadata": {
        "id": "lgZwgGBIDJwH",
        "colab": {
          "base_uri": "https://localhost:8080/"
        },
        "outputId": "556f1422-c506-4561-ed4f-329067fdf4e8"
      },
      "execution_count": 7,
      "outputs": [
        {
          "output_type": "stream",
          "name": "stdout",
          "text": [
            "(2.0, 2.0)\n"
          ]
        }
      ]
    },
    {
      "cell_type": "code",
      "source": [
        "# ques 5\n",
        "\n",
        "x,y = 4,5\n",
        "y,x  = x,y\n",
        "print(f'x = {x}')\n",
        "print(f'y = {y}')\n",
        "\n"
      ],
      "metadata": {
        "colab": {
          "base_uri": "https://localhost:8080/"
        },
        "id": "pv_QI0QJD_aK",
        "outputId": "d9722236-195b-4266-ae66-88d579bcba7f"
      },
      "execution_count": null,
      "outputs": [
        {
          "output_type": "stream",
          "name": "stdout",
          "text": [
            "x = 5\n",
            "y = 4\n"
          ]
        }
      ]
    },
    {
      "cell_type": "code",
      "source": [],
      "metadata": {
        "id": "bt4kQ8muEHBO"
      },
      "execution_count": null,
      "outputs": []
    }
  ]
}